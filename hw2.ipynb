{
 "cells": [
  {
   "cell_type": "code",
   "execution_count": 1,
   "id": "68e22ff7-35b9-4d83-a58e-74ac09cf7aa7",
   "metadata": {
    "tags": []
   },
   "outputs": [],
   "source": [
    "from linked_tree import LinkedTree"
   ]
  },
  {
   "cell_type": "markdown",
   "id": "10df91d1-e572-4b2f-b76b-75c586f205a3",
   "metadata": {
    "tags": []
   },
   "source": [
    "# HW 2-1. Complete the linked tree implementation. (5p)\n",
    "\n",
    "In the `linked_tree.py`, complete these methods:\n",
    " - `_add_root(self, e)`\n",
    " - `_add_child(self, p, e)`\n",
    " - `_replace(self, p, e)` \n",
    " - `_delete(self, p)`\n",
    " \n",
    "Look at the comments for each method to how each method should work."
   ]
  },
  {
   "cell_type": "code",
   "execution_count": 2,
   "id": "33531e83-284f-416d-96e4-718e6e2ae22d",
   "metadata": {
    "tags": []
   },
   "outputs": [
    {
     "name": "stdout",
     "output_type": "stream",
     "text": [
      "Test case 1: Add root\n"
     ]
    },
    {
     "ename": "AttributeError",
     "evalue": "'Position' object has no attribute '_element'",
     "output_type": "error",
     "traceback": [
      "\u001b[0;31m---------------------------------------------------------------------------\u001b[0m",
      "\u001b[0;31mAttributeError\u001b[0m                            Traceback (most recent call last)",
      "Input \u001b[0;32mIn [2]\u001b[0m, in \u001b[0;36m<cell line: 7>\u001b[0;34m()\u001b[0m\n\u001b[1;32m      5\u001b[0m \u001b[38;5;28mprint\u001b[39m(\u001b[38;5;124m\"\u001b[39m\u001b[38;5;124mTest case 1: Add root\u001b[39m\u001b[38;5;124m\"\u001b[39m)\n\u001b[1;32m      6\u001b[0m root \u001b[38;5;241m=\u001b[39m T\u001b[38;5;241m.\u001b[39m_add_root(\u001b[38;5;124m'\u001b[39m\u001b[38;5;124mA\u001b[39m\u001b[38;5;124m'\u001b[39m)\n\u001b[0;32m----> 7\u001b[0m \u001b[38;5;28mprint\u001b[39m(\u001b[38;5;124mf\u001b[39m\u001b[38;5;124m\"\u001b[39m\u001b[38;5;124mRoot: \u001b[39m\u001b[38;5;132;01m{\u001b[39;00mroot\u001b[38;5;241m.\u001b[39melement()\u001b[38;5;132;01m}\u001b[39;00m\u001b[38;5;124m\"\u001b[39m)  \u001b[38;5;66;03m# Output: Root: A\u001b[39;00m\n\u001b[1;32m      9\u001b[0m \u001b[38;5;66;03m# Test case 2: Test _add_child functionality\u001b[39;00m\n\u001b[1;32m     10\u001b[0m \u001b[38;5;28mprint\u001b[39m(\u001b[38;5;124m\"\u001b[39m\u001b[38;5;130;01m\\n\u001b[39;00m\u001b[38;5;124mTest case 2: Add children\u001b[39m\u001b[38;5;124m\"\u001b[39m)\n",
      "File \u001b[0;32m~/Desktop/자료구조 HW2 최종 제출/linked_tree.py:62\u001b[0m, in \u001b[0;36mLinkedTree.Position.element\u001b[0;34m(self)\u001b[0m\n\u001b[1;32m     60\u001b[0m \u001b[38;5;28;01mdef\u001b[39;00m \u001b[38;5;21melement\u001b[39m(\u001b[38;5;28mself\u001b[39m):\n\u001b[1;32m     61\u001b[0m     \u001b[38;5;124;03m\"\"\"Return the element stored at this Position.\"\"\"\u001b[39;00m\n\u001b[0;32m---> 62\u001b[0m     \u001b[38;5;28;01mreturn\u001b[39;00m \u001b[38;5;28;43mself\u001b[39;49m\u001b[38;5;241;43m.\u001b[39;49m\u001b[43m_node\u001b[49m\u001b[38;5;241;43m.\u001b[39;49m\u001b[43m_element\u001b[49m\n",
      "\u001b[0;31mAttributeError\u001b[0m: 'Position' object has no attribute '_element'"
     ]
    }
   ],
   "source": [
    "# Example test cases to verify your implementation\n",
    "T = LinkedTree()\n",
    "\n",
    "# Test case 1: Test _add_root functionality\n",
    "print(\"Test case 1: Add root\")\n",
    "root = T._add_root('A')\n",
    "print(f\"Root: {root.element()}\")  # Output: Root: A\n",
    "\n",
    "# Test case 2: Test _add_child functionality\n",
    "print(\"\\nTest case 2: Add children\")\n",
    "b = T._add_child(root, 'B')\n",
    "c = T._add_child(root, 'C')\n",
    "d = T._add_child(root, 'D')\n",
    "\n",
    "# Output: Children of A: ['B', 'C', 'D']\n",
    "print(f\"Children of A: {[child.element() for child in T.children(root)]}\")\n",
    "\n",
    "# Test case 3: Test _replace functionality\n",
    "print(\"\\nTest case 3: Replace element\")\n",
    "T._replace(b, 'B_new')\n",
    "print(f\"New element at B's position: {b.element()}\")  # Output: New element at B's position: B_new\n",
    "print(f\"Now Children of A: {[child.element() for child in T.children(root)]}\")"
   ]
  },
  {
   "cell_type": "markdown",
   "id": "dd737b6b-92c0-415f-be74-5c2bee0b207f",
   "metadata": {
    "tags": []
   },
   "source": [
    "# HW 2-2. Level-order traversal of a tree (5p)\n",
    "\n",
    "You will implement a level-order traversal of a tree. Your goal is to create a function that, given a tree, visits each node in the order corresponding to their level in the tree, from left to right.\n",
    "\n",
    "## Background\n",
    "Level-order traversal, also known as breadth-first traversal, is a tree traversal method where nodes are visited level by level, moving from left to right at each level. This traversal method can be useful when you need to process nodes in a specific order or when you want to find the shortest path to a specific node in the tree.\n",
    "\n",
    "## Instructions\n",
    "- Implement a method called levelorder() in the Tree class that generates a level-order iteration of positions in the tree. The running time of this level-order traversal should be O(n), where *n* is the number of items in the tree.\n",
    "\n",
    "\n",
    "Hints:\n",
    "Consider using a queue as a substructure. Start by enqueuing the root of the tree.\n",
    "\n",
    "For a tree with the following structure:\n",
    "```mathematica\n",
    "    A\n",
    "   /|\\\n",
    "  B C D\n",
    " /|   |\\\n",
    "E F   G H\n",
    "```\n",
    "\n",
    "Your level_order_traversal function should return the following list: ['A', 'B', 'C', 'D', 'E', 'F', 'G', 'H'].\n"
   ]
  },
  {
   "cell_type": "code",
   "execution_count": null,
   "id": "8bd60231-5aeb-4280-b5a4-4458a3aa2bb0",
   "metadata": {
    "tags": []
   },
   "outputs": [],
   "source": [
    "T = LinkedTree()"
   ]
  },
  {
   "cell_type": "code",
   "execution_count": null,
   "id": "6f7a14dc-f3ef-4bc8-a340-fe859581d44d",
   "metadata": {
    "tags": []
   },
   "outputs": [],
   "source": [
    "# Example tree construction\n",
    "\n",
    "root = T._add_root('A')\n",
    "b = T._add_child(root, 'B')\n",
    "c = T._add_child(root, 'C')\n",
    "d = T._add_child(root, 'D')\n",
    "\n",
    "T._add_child(b, 'B1')\n",
    "T._add_child(b, 'B2')\n",
    "\n",
    "c1 = T._add_child(c, 'C1')\n",
    "\n",
    "T._add_child(d, 'D1')\n",
    "T._add_child(d, 'D2')\n",
    "T._add_child(d, 'D3')\n",
    "\n",
    "T._add_child(c1, \"C11\")\n",
    "T._add_child(c1, \"C12\")\n",
    "T._add_child(c1, \"C13\")"
   ]
  },
  {
   "cell_type": "code",
   "execution_count": null,
   "id": "a70899e8-5737-4771-ab70-1312367883c7",
   "metadata": {
    "tags": []
   },
   "outputs": [],
   "source": [
    "for node in T.levelorder():\n",
    "    print(node.element())"
   ]
  },
  {
   "cell_type": "code",
   "execution_count": null,
   "id": "35ae6b1f-810f-4efc-b0ca-936be71c97b8",
   "metadata": {
    "tags": []
   },
   "outputs": [],
   "source": [
    "# this block is not related to the homework. just for your fun\n",
    "for node in T.preorder():\n",
    "    print(node.element())"
   ]
  },
  {
   "cell_type": "code",
   "execution_count": null,
   "id": "6e6ab8e6-1ce8-47b2-a7b0-c79e8db81f97",
   "metadata": {
    "tags": []
   },
   "outputs": [],
   "source": [
    "# this block is not related to the homework. just for your fun\n",
    "for node in T.postorder():\n",
    "    print(node.element())"
   ]
  },
  {
   "cell_type": "markdown",
   "id": "9c47c2a9-0718-4c8b-9fc9-d73af224e55a",
   "metadata": {},
   "source": [
    "# HW 2-3. Commenting (5p)\n",
    "\n",
    "Commenting your code is an essential part of good programming practices. Well-documented code is easier to understand, maintain, and debug. It allows you, your teammates, and future developers to quickly grasp the purpose, functionality, and behavior of your code. Comments help ensure that your code remains usable and maintainable, even as the project evolves or new developers join the team.\n",
    "\n",
    "In this homework, you are expected to provide detailed comments for all methods in tree.py and linked_tree.py. This exercise will help you to develop good commenting habits and improve your ability to communicate the purpose and functionality of your code to others.\n",
    "\n",
    "## Instructions\n",
    "1. For each method in the tree.py and linked_tree.py files, add a comment block and inline comments, as necessary, to clearly explain the purpose, functionality, input parameters, and return values of the method.\n",
    "2. Ensure that your comments are concise, clear, and easy to understand.\n",
    "3. The level of detail in your comments should be similar to the example provided below.\n",
    "\n",
    "```python\n",
    "\"\"\"\n",
    "Initialize a new node object with the given element, parent, and children.\n",
    "\n",
    ":param element: The element to be stored in the node\n",
    ":param parent: A reference to the parent node (default: None)\n",
    ":param children: A list of references to the children nodes (default: None)\n",
    "\"\"\"\n",
    "def __init__(self, element, parent=None, children=None):\n",
    "    self._element = element  # The element of this node\n",
    "    self._parent = parent  # A reference to the parent node\n",
    "\n",
    "    # If 'children' is None, initialize an empty list for children nodes;\n",
    "    # otherwise, use the provided list of children nodes\n",
    "    if children is None:\n",
    "        self._children = []\n",
    "    else:\n",
    "        self._children = children  # List of references to children nodes\n",
    "\n",
    "```"
   ]
  },
  {
   "cell_type": "markdown",
   "id": "bf8fcd51-56a6-408a-9266-3c4fa9966ad7",
   "metadata": {
    "tags": []
   },
   "source": [
    "# HW 2-4. Test cases (max 5p, 1p per your own test)\n",
    "\n",
    "In this notebook file, write your own test cases to test your implementation with various tree structures and various examples to ensure its correctness.\n",
    "\n",
    "(you can add more if you want)"
   ]
  },
  {
   "cell_type": "code",
   "execution_count": null,
   "id": "01ef3e70-f7b9-4cb0-8688-83241ada4ba3",
   "metadata": {
    "tags": []
   },
   "outputs": [],
   "source": [
    "# Test 1\n",
    "T = LinkedTree()\n",
    "\n",
    "root = T._add_root('A')\n",
    "\n",
    "for node in T.levelorder():\n",
    "    print(node.element())\n",
    "\n",
    "# Write your test case setup and results\n",
    "# 테스트의 목적: 루트 노드만 있는 구조에서도 levelorder traversal이 잘 진행되는지 확인하기 위함이다.\n",
    "# 테스트에서 기대되는 결과값: A"
   ]
  },
  {
   "cell_type": "code",
   "execution_count": null,
   "id": "8998bc0c-1cc4-4f65-a78b-ee5b8e641cc8",
   "metadata": {},
   "outputs": [],
   "source": [
    "# Test 2\n",
    "T = LinkedTree()\n",
    "\n",
    "root = T._add_root('A')\n",
    "b = T._add_child(root, 'B')\n",
    "c = T._add_child(root, 'C')\n",
    "\n",
    "B1 = T._add_child(b, 'B1')\n",
    "B2 = T._add_child(b, 'B2')\n",
    "\n",
    "C1 = T._add_child(c, 'C1')\n",
    "C2 = T._add_child(c, 'C2')\n",
    "\n",
    "T._add_child(B1, 'B11')\n",
    "T._add_child(B1, 'B12')\n",
    "\n",
    "T._add_child(B2, 'B21')\n",
    "T._add_child(B2, 'B22')\n",
    "\n",
    "T._add_child(C1, 'C11')\n",
    "T._add_child(C1, 'C12')\n",
    "\n",
    "C21 = T._add_child(C2, 'C21')\n",
    "T._add_child(C2, 'C22')\n",
    "\n",
    "T._replace(B1, 'b1')\n",
    "print(T._delete(C21))\n",
    "\n",
    "for node in T.levelorder():\n",
    "    print(node.element())\n",
    "\n",
    "\n",
    "# Write your test case setup and results\n",
    "# 테스트의 목적: 완전 이진 트리에 대해서도 levelorder traversal가 잘 진행되는지 확인하고 LinkedTree class의 메소드 중 _replace(self,p,e), _delete(self,p)가 잘 작동하는지 확인하기 위함이다.\n",
    "# 테스트에서 기대되는 결과값:\n",
    "# C21\n",
    "# A\n",
    "# B\n",
    "# C\n",
    "# B1\n",
    "# B2\n",
    "# C1\n",
    "# C2\n",
    "# B11\n",
    "# B12\n",
    "# B21\n",
    "# B22\n",
    "# C11\n",
    "# C12\n",
    "# C22"
   ]
  },
  {
   "cell_type": "code",
   "execution_count": null,
   "id": "5bf0d2a5-1732-4043-ae7d-dd8268eedcd3",
   "metadata": {
    "tags": []
   },
   "outputs": [],
   "source": [
    "# Test 3\n",
    "T = LinkedTree()\n",
    "\n",
    "print(T.is_empty())\n",
    "\n",
    "root = T._add_root('A')\n",
    "print(T.is_root(root))\n",
    "\n",
    "b = T._add_child(root, 'B')\n",
    "\n",
    "B1 = T._add_child(b, 'B1')\n",
    "\n",
    "\n",
    "one_of_leaves = T._add_child(B1, 'B11')\n",
    "\n",
    "\n",
    "print(T.is_leaf(one_of_leaves))\n",
    "\n",
    "\n",
    "# Write your test case setup and results\n",
    "# 테스트의 목적: 계속해서 자식이 하나만 있는 structure에 대해서 levelorder traversal가 잘 실행이 되는지를 확인하고 LinkedTree class가 상위 클래스인 Tree class의 메소드인 is_empty(self), is_root(self, p), is_leaf(self, p)를 잘 상속받을 수 있는지 확인하기 위함이다.\n",
    "# 테스트에서 기대되는 결과값:\n",
    "# True\n",
    "# True\n",
    "# True"
   ]
  },
  {
   "cell_type": "code",
   "execution_count": null,
   "id": "e9a761da-be43-49df-8b10-3186c87360a6",
   "metadata": {
    "tags": []
   },
   "outputs": [],
   "source": [
    "# Test 4\n",
    "T = LinkedTree()\n",
    "\n",
    "root = T._add_root('A')\n",
    "\n",
    "b = T._add_child(root, 'B')\n",
    "c = T._add_child(root, 'C')\n",
    "\n",
    "B1 = T._add_child(b, 'B1')\n",
    "B2 = T._add_child(b, 'B2')\n",
    "\n",
    "C1 = T._add_child(c, 'C1')\n",
    "C2 = T._add_child(c, 'C2')\n",
    "\n",
    "T._add_child(B1, 'B11')\n",
    "T._add_child(B1, 'B12')\n",
    "\n",
    "T._add_child(B2, 'B21')\n",
    "T._add_child(B2, 'B22')\n",
    "\n",
    "T._add_child(C1, 'C11')\n",
    "T._add_child(C1, 'C12')\n",
    "\n",
    "T._add_child(C2, 'C21')\n",
    "T._add_child(C2, 'C22')\n",
    "\n",
    "print(T.parent(root))\n",
    "print(T.num_children(root))\n",
    "\n",
    "for node in T.levelorder():\n",
    "    print(T.depth(node))\n",
    "\n",
    "# Write your test case setup and results\n",
    "# 테스트의 목적: 구현한 완전이진트리에 대해서 LinkedTree class의 메소드인 parent(self,p)와 num_children(self,p)가 잘 실행되는지 확인한다.(parent(self,p)의 경우 예외 조건이 잘 적용되는지 확인하기 위해 root에 적용한다.) 그 이후에는 Tree 클래스에서 상속받은 depth(self,p)가 잘 상속되었는지 알아본다.\n",
    "# 테스트에서 기대되는 결과값:\n",
    "# None\n",
    "# 2\n",
    "# 0\n",
    "# 1\n",
    "# 1\n",
    "# 2\n",
    "# 2\n",
    "# 2\n",
    "# 2\n",
    "# 3\n",
    "# 3\n",
    "# 3\n",
    "# 3\n",
    "# 3\n",
    "# 3\n",
    "# 3\n",
    "# 3"
   ]
  },
  {
   "cell_type": "code",
   "execution_count": null,
   "id": "1b4d5d26-b345-473e-af4f-7bbc3c8b60bd",
   "metadata": {
    "tags": []
   },
   "outputs": [],
   "source": [
    "# Test 5\n",
    "T = LinkedTree()\n",
    "\n",
    "root = T._add_root('A')\n",
    "\n",
    "b = T._add_child(root, 'B')\n",
    "c = T._add_child(root, 'C')\n",
    "\n",
    "B1 = T._add_child(b, 'B1')\n",
    "B2 = T._add_child(b, 'B2')\n",
    "\n",
    "C1 = T._add_child(c, 'C1')\n",
    "C2 = T._add_child(c, 'C2')\n",
    "\n",
    "T._add_child(B1, 'B11')\n",
    "T._add_child(B1, 'B12')\n",
    "\n",
    "T._add_child(B2, 'B21')\n",
    "T._add_child(B2, 'B22')\n",
    "\n",
    "T._add_child(C1, 'C11')\n",
    "T._add_child(C1, 'C12')\n",
    "\n",
    "T._add_child(C2, 'C21')\n",
    "T._add_child(C2, 'C22')\n",
    "\n",
    "preorder_lst = []\n",
    "for node in T.preorder():\n",
    "    preorder_lst.append(node.element())\n",
    "print(preorder_lst)\n",
    "\n",
    "postorder_lst = []\n",
    "for node in T.postorder():\n",
    "    postorder_lst.append(node.element())\n",
    "print(postorder_lst)\n",
    "\n",
    "for ch in T.children(root):\n",
    "    print(ch.element())\n",
    "\n",
    "height_lst = []\n",
    "for node in T.levelorder():\n",
    "    height_lst.append(T.height(node))\n",
    "print(height_lst)\n",
    "\n",
    "# Write your test case setup and results\n",
    "# 테스트의 목적: 완전이진트리를 구현하고 해당 구조에 Tree class의 메소드인 preorder(self)와 postorder(self)가 적용되는지를 확인한다. 또한, 그 외에도 LinkedTree class의 메소드인 children(self,p)와 Tree class의 메소드인 height(self,p)가 잘 적용되는지도 확인해본다.\n",
    "# 테스트에서 기대되는 결과값:\n",
    "# ['A', 'B', 'B1', 'B11', 'B12', 'B2', 'B21', 'B22', 'C', 'C1', 'C11', 'C12', 'C2', 'C21', 'C22']\n",
    "# ['B11', 'B12', 'B1', 'B21', 'B22', 'B2', 'B', 'C11', 'C12', 'C1', 'C21', 'C22', 'C2', 'C', 'A']\n",
    "# B\n",
    "# C\n",
    "# [3, 2, 2, 1, 1, 1, 1, 0, 0, 0, 0, 0, 0, 0, 0]"
   ]
  },
  {
   "cell_type": "markdown",
   "id": "ae4cf37d-c5fc-438a-943b-82b84249289b",
   "metadata": {},
   "source": [
    "# Submission\n",
    "\n",
    "Submit three files: `linked_tree.py`, `tree.py`, and `hw2.ipynb`.\n",
    "\n",
    "- `linked_tree.py` should include the `_add_root`, `_add_child`, `_replace`, `_delete` methods, and your comments explaining all the methods.\n",
    "\n",
    "- `tree.py` should include the Tree class with the `levelorder()` method. Make sure to include comments explaining your code.\n",
    "\n",
    "- In this notebook file `hw2.ipynb`, write your own test cases to test your implementation with various tree structures and various examples to ensure its correctness. "
   ]
  }
 ],
 "metadata": {
  "kernelspec": {
   "display_name": "Python 3 (ipykernel)",
   "language": "python",
   "name": "python3"
  },
  "language_info": {
   "codemirror_mode": {
    "name": "ipython",
    "version": 3
   },
   "file_extension": ".py",
   "mimetype": "text/x-python",
   "name": "python",
   "nbconvert_exporter": "python",
   "pygments_lexer": "ipython3",
   "version": "3.9.12"
  }
 },
 "nbformat": 4,
 "nbformat_minor": 5
}
